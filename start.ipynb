{
 "cells": [
  {
   "cell_type": "code",
   "execution_count": 17,
   "outputs": [],
   "source": [
    "import numpy as np\n",
    "import pandas as pd\n",
    "import matplotlib.pyplot as plt\n",
    "import tensorflow as tf\n",
    "from tensorflow import keras\n",
    "from IPython.display import display"
   ],
   "metadata": {
    "collapsed": false,
    "pycharm": {
     "name": "#%%\n"
    }
   }
  },
  {
   "cell_type": "code",
   "execution_count": 18,
   "outputs": [
    {
     "name": "stdout",
     "output_type": "stream",
     "text": [
      "(581012, 55)\n"
     ]
    },
    {
     "data": {
      "text/plain": "        Elevation  Aspect  Slope  HDH  VDH   HDR  Hillshade_9am  \\\n0            2596      51      3  258    0   510            221   \n1            2590      56      2  212   -6   390            220   \n2            2804     139      9  268   65  3180            234   \n3            2785     155     18  242  118  3090            238   \n4            2595      45      2  153   -1   391            220   \n...           ...     ...    ...  ...  ...   ...            ...   \n581007       2396     153     20   85   17   108            240   \n581008       2391     152     19   67   12    95            240   \n581009       2386     159     17   60    7    90            236   \n581010       2384     170     15   60    5    90            230   \n581011       2383     165     13   60    4    67            231   \n\n        Hillshade_Noon  Hillshade_3pm  HDFP  ...  Soil_Type_USFS7756  \\\n0                  232            148  6279  ...                   0   \n1                  235            151  6225  ...                   0   \n2                  238            135  6121  ...                   0   \n3                  238            122  6211  ...                   0   \n4                  234            150  6172  ...                   0   \n...                ...            ...   ...  ...                 ...   \n581007             237            118   837  ...                   0   \n581008             237            119   845  ...                   0   \n581009             241            130   854  ...                   0   \n581010             245            143   864  ...                   0   \n581011             244            141   875  ...                   0   \n\n        Soil_Type_USFS7757  Soil_Type_USFS7790  Soil_Type_USFS8703  \\\n0                        0                   0                   0   \n1                        0                   0                   0   \n2                        0                   0                   0   \n3                        0                   0                   0   \n4                        0                   0                   0   \n...                    ...                 ...                 ...   \n581007                   0                   0                   0   \n581008                   0                   0                   0   \n581009                   0                   0                   0   \n581010                   0                   0                   0   \n581011                   0                   0                   0   \n\n        Soil_Type_USFS8707  Soil_Type_USFS8708  Soil_Type_USFS8771  \\\n0                        0                   0                   0   \n1                        0                   0                   0   \n2                        0                   0                   0   \n3                        0                   0                   0   \n4                        0                   0                   0   \n...                    ...                 ...                 ...   \n581007                   0                   0                   0   \n581008                   0                   0                   0   \n581009                   0                   0                   0   \n581010                   0                   0                   0   \n581011                   0                   0                   0   \n\n        Soil_Type_USFS8772  Soil_Type_USFS8776  Cover_Type  \n0                        0                   0           5  \n1                        0                   0           5  \n2                        0                   0           2  \n3                        0                   0           2  \n4                        0                   0           5  \n...                    ...                 ...         ...  \n581007                   0                   0           3  \n581008                   0                   0           3  \n581009                   0                   0           3  \n581010                   0                   0           3  \n581011                   0                   0           3  \n\n[581012 rows x 55 columns]",
      "text/html": "<div>\n<style scoped>\n    .dataframe tbody tr th:only-of-type {\n        vertical-align: middle;\n    }\n\n    .dataframe tbody tr th {\n        vertical-align: top;\n    }\n\n    .dataframe thead th {\n        text-align: right;\n    }\n</style>\n<table border=\"1\" class=\"dataframe\">\n  <thead>\n    <tr style=\"text-align: right;\">\n      <th></th>\n      <th>Elevation</th>\n      <th>Aspect</th>\n      <th>Slope</th>\n      <th>HDH</th>\n      <th>VDH</th>\n      <th>HDR</th>\n      <th>Hillshade_9am</th>\n      <th>Hillshade_Noon</th>\n      <th>Hillshade_3pm</th>\n      <th>HDFP</th>\n      <th>...</th>\n      <th>Soil_Type_USFS7756</th>\n      <th>Soil_Type_USFS7757</th>\n      <th>Soil_Type_USFS7790</th>\n      <th>Soil_Type_USFS8703</th>\n      <th>Soil_Type_USFS8707</th>\n      <th>Soil_Type_USFS8708</th>\n      <th>Soil_Type_USFS8771</th>\n      <th>Soil_Type_USFS8772</th>\n      <th>Soil_Type_USFS8776</th>\n      <th>Cover_Type</th>\n    </tr>\n  </thead>\n  <tbody>\n    <tr>\n      <th>0</th>\n      <td>2596</td>\n      <td>51</td>\n      <td>3</td>\n      <td>258</td>\n      <td>0</td>\n      <td>510</td>\n      <td>221</td>\n      <td>232</td>\n      <td>148</td>\n      <td>6279</td>\n      <td>...</td>\n      <td>0</td>\n      <td>0</td>\n      <td>0</td>\n      <td>0</td>\n      <td>0</td>\n      <td>0</td>\n      <td>0</td>\n      <td>0</td>\n      <td>0</td>\n      <td>5</td>\n    </tr>\n    <tr>\n      <th>1</th>\n      <td>2590</td>\n      <td>56</td>\n      <td>2</td>\n      <td>212</td>\n      <td>-6</td>\n      <td>390</td>\n      <td>220</td>\n      <td>235</td>\n      <td>151</td>\n      <td>6225</td>\n      <td>...</td>\n      <td>0</td>\n      <td>0</td>\n      <td>0</td>\n      <td>0</td>\n      <td>0</td>\n      <td>0</td>\n      <td>0</td>\n      <td>0</td>\n      <td>0</td>\n      <td>5</td>\n    </tr>\n    <tr>\n      <th>2</th>\n      <td>2804</td>\n      <td>139</td>\n      <td>9</td>\n      <td>268</td>\n      <td>65</td>\n      <td>3180</td>\n      <td>234</td>\n      <td>238</td>\n      <td>135</td>\n      <td>6121</td>\n      <td>...</td>\n      <td>0</td>\n      <td>0</td>\n      <td>0</td>\n      <td>0</td>\n      <td>0</td>\n      <td>0</td>\n      <td>0</td>\n      <td>0</td>\n      <td>0</td>\n      <td>2</td>\n    </tr>\n    <tr>\n      <th>3</th>\n      <td>2785</td>\n      <td>155</td>\n      <td>18</td>\n      <td>242</td>\n      <td>118</td>\n      <td>3090</td>\n      <td>238</td>\n      <td>238</td>\n      <td>122</td>\n      <td>6211</td>\n      <td>...</td>\n      <td>0</td>\n      <td>0</td>\n      <td>0</td>\n      <td>0</td>\n      <td>0</td>\n      <td>0</td>\n      <td>0</td>\n      <td>0</td>\n      <td>0</td>\n      <td>2</td>\n    </tr>\n    <tr>\n      <th>4</th>\n      <td>2595</td>\n      <td>45</td>\n      <td>2</td>\n      <td>153</td>\n      <td>-1</td>\n      <td>391</td>\n      <td>220</td>\n      <td>234</td>\n      <td>150</td>\n      <td>6172</td>\n      <td>...</td>\n      <td>0</td>\n      <td>0</td>\n      <td>0</td>\n      <td>0</td>\n      <td>0</td>\n      <td>0</td>\n      <td>0</td>\n      <td>0</td>\n      <td>0</td>\n      <td>5</td>\n    </tr>\n    <tr>\n      <th>...</th>\n      <td>...</td>\n      <td>...</td>\n      <td>...</td>\n      <td>...</td>\n      <td>...</td>\n      <td>...</td>\n      <td>...</td>\n      <td>...</td>\n      <td>...</td>\n      <td>...</td>\n      <td>...</td>\n      <td>...</td>\n      <td>...</td>\n      <td>...</td>\n      <td>...</td>\n      <td>...</td>\n      <td>...</td>\n      <td>...</td>\n      <td>...</td>\n      <td>...</td>\n      <td>...</td>\n    </tr>\n    <tr>\n      <th>581007</th>\n      <td>2396</td>\n      <td>153</td>\n      <td>20</td>\n      <td>85</td>\n      <td>17</td>\n      <td>108</td>\n      <td>240</td>\n      <td>237</td>\n      <td>118</td>\n      <td>837</td>\n      <td>...</td>\n      <td>0</td>\n      <td>0</td>\n      <td>0</td>\n      <td>0</td>\n      <td>0</td>\n      <td>0</td>\n      <td>0</td>\n      <td>0</td>\n      <td>0</td>\n      <td>3</td>\n    </tr>\n    <tr>\n      <th>581008</th>\n      <td>2391</td>\n      <td>152</td>\n      <td>19</td>\n      <td>67</td>\n      <td>12</td>\n      <td>95</td>\n      <td>240</td>\n      <td>237</td>\n      <td>119</td>\n      <td>845</td>\n      <td>...</td>\n      <td>0</td>\n      <td>0</td>\n      <td>0</td>\n      <td>0</td>\n      <td>0</td>\n      <td>0</td>\n      <td>0</td>\n      <td>0</td>\n      <td>0</td>\n      <td>3</td>\n    </tr>\n    <tr>\n      <th>581009</th>\n      <td>2386</td>\n      <td>159</td>\n      <td>17</td>\n      <td>60</td>\n      <td>7</td>\n      <td>90</td>\n      <td>236</td>\n      <td>241</td>\n      <td>130</td>\n      <td>854</td>\n      <td>...</td>\n      <td>0</td>\n      <td>0</td>\n      <td>0</td>\n      <td>0</td>\n      <td>0</td>\n      <td>0</td>\n      <td>0</td>\n      <td>0</td>\n      <td>0</td>\n      <td>3</td>\n    </tr>\n    <tr>\n      <th>581010</th>\n      <td>2384</td>\n      <td>170</td>\n      <td>15</td>\n      <td>60</td>\n      <td>5</td>\n      <td>90</td>\n      <td>230</td>\n      <td>245</td>\n      <td>143</td>\n      <td>864</td>\n      <td>...</td>\n      <td>0</td>\n      <td>0</td>\n      <td>0</td>\n      <td>0</td>\n      <td>0</td>\n      <td>0</td>\n      <td>0</td>\n      <td>0</td>\n      <td>0</td>\n      <td>3</td>\n    </tr>\n    <tr>\n      <th>581011</th>\n      <td>2383</td>\n      <td>165</td>\n      <td>13</td>\n      <td>60</td>\n      <td>4</td>\n      <td>67</td>\n      <td>231</td>\n      <td>244</td>\n      <td>141</td>\n      <td>875</td>\n      <td>...</td>\n      <td>0</td>\n      <td>0</td>\n      <td>0</td>\n      <td>0</td>\n      <td>0</td>\n      <td>0</td>\n      <td>0</td>\n      <td>0</td>\n      <td>0</td>\n      <td>3</td>\n    </tr>\n  </tbody>\n</table>\n<p>581012 rows × 55 columns</p>\n</div>"
     },
     "metadata": {},
     "output_type": "display_data"
    }
   ],
   "source": [
    "data = pd.read_csv(\"covtype.data\",header=None)\n",
    "data.columns = [\"Elevation\",\"Aspect\",\"Slope\",\"HDH\",\"VDH\",\"HDR\",\"Hillshade_9am\",\"Hillshade_Noon\",\"Hillshade_3pm\",\"HDFP\",\"Rawah_Wilderness_Area\",\"Neota_Wilderness_Area\",\"Comanche_Peak_Wilderness_Area\",\"Cache_la_Poudre_Wilderness_Area\",\"Soil_Type_USFS2702\",\"Soil_Type_USFS2703\",\"Soil_Type_USFS2704\",\"Soil_Type_USFS2705\",\"Soil_Type_USFS2706\",\"Soil_Type_USFS2717\",\"Soil_Type_USFS3501\",\"Soil_Type_USFS3502\",\"Soil_Type_USFS4201\",\"Soil_Type_USFS4703\",\"Soil_Type_USFS4704\",\"Soil_Type_USFS4744\",\"Soil_Type_USFS4758\",\"Soil_Type_USFS5101\",\"Soil_Type_USFS5151\",\"Soil_Type_USFS6101\",\"Soil_Type_USFS6102\",\"Soil_Type_USFS6731\",\"Soil_Type_USFS7101\",\"Soil_Type_USFS7102\",\"Soil_Type_USFS7103\",\"Soil_Type_USFS7201\",\"Soil_Type_USFS7202\",\"Soil_Type_USFS7700\",\"Soil_Type_USFS7701\",\"Soil_Type_USFS7702\",\"Soil_Type_USFS7709\",\"Soil_Type_USFS7710\",\"Soil_Type_USFS7745\",\"Soil_Type_USFS7746\",\"Soil_Type_USFS7755\",\"Soil_Type_USFS7756\",\"Soil_Type_USFS7757\",\"Soil_Type_USFS7790\",\"Soil_Type_USFS8703\",\"Soil_Type_USFS8707\",\"Soil_Type_USFS8708\",\"Soil_Type_USFS8771\",\"Soil_Type_USFS8772\",\"Soil_Type_USFS8776\",\"Cover_Type\"]\n",
    "print(data.shape)\n",
    "display(data)\n",
    "# display(data.head(10).T)"
   ],
   "metadata": {
    "collapsed": false,
    "pycharm": {
     "name": "#%%\n"
    }
   }
  },
  {
   "cell_type": "code",
   "execution_count": 19,
   "outputs": [],
   "source": [
    "def dataframe_to_dataset(dataframe:pd.DataFrame) -> tf.data.Dataset:\n",
    "    dataframe = dataframe.copy()\n",
    "    labels = dataframe.pop(\"Cover_Type\")\n",
    "    ds = tf.data.Dataset.from_tensor_slices((dict(dataframe), labels))\n",
    "    ds = ds.shuffle(buffer_size=len(dataframe))\n",
    "\n",
    "    return ds"
   ],
   "metadata": {
    "collapsed": false,
    "pycharm": {
     "name": "#%%\n"
    }
   }
  },
  {
   "cell_type": "code",
   "execution_count": 20,
   "outputs": [
    {
     "name": "stdout",
     "output_type": "stream",
     "text": [
      "(58101, 55) (46481, 55) (11620, 55) (522911, 55)\n"
     ]
    }
   ],
   "source": [
    "df = data.sample(frac=0.1, random_state=1337)\n",
    "train_df = df.sample(frac=0.8, random_state=1337)\n",
    "val_df = df.drop(train_df.index)\n",
    "test_df = data.drop(df.index)\n",
    "print(df.shape, train_df.shape ,val_df.shape ,test_df.shape)"
   ],
   "metadata": {
    "collapsed": false,
    "pycharm": {
     "name": "#%%\n"
    }
   }
  },
  {
   "cell_type": "code",
   "execution_count": 30,
   "outputs": [],
   "source": [
    "train_ds = dataframe_to_dataset(train_df)\n",
    "val_ds = dataframe_to_dataset(val_df)\n",
    "test_ds = dataframe_to_dataset(test_df)"
   ],
   "metadata": {
    "collapsed": false,
    "pycharm": {
     "name": "#%%\n"
    }
   }
  },
  {
   "cell_type": "code",
   "execution_count": 57,
   "outputs": [
    {
     "name": "stdout",
     "output_type": "stream",
     "text": [
      "Input: {'Elevation': <tf.Tensor: shape=(), dtype=int64, numpy=2205>, 'Aspect': <tf.Tensor: shape=(), dtype=int64, numpy=272>, 'Slope': <tf.Tensor: shape=(), dtype=int64, numpy=20>, 'HDH': <tf.Tensor: shape=(), dtype=int64, numpy=242>, 'VDH': <tf.Tensor: shape=(), dtype=int64, numpy=128>, 'HDR': <tf.Tensor: shape=(), dtype=int64, numpy=361>, 'Hillshade_9am': <tf.Tensor: shape=(), dtype=int64, numpy=162>, 'Hillshade_Noon': <tf.Tensor: shape=(), dtype=int64, numpy=241>, 'Hillshade_3pm': <tf.Tensor: shape=(), dtype=int64, numpy=216>, 'HDFP': <tf.Tensor: shape=(), dtype=int64, numpy=638>, 'Rawah_Wilderness_Area': <tf.Tensor: shape=(), dtype=int64, numpy=0>, 'Neota_Wilderness_Area': <tf.Tensor: shape=(), dtype=int64, numpy=0>, 'Comanche_Peak_Wilderness_Area': <tf.Tensor: shape=(), dtype=int64, numpy=0>, 'Cache_la_Poudre_Wilderness_Area': <tf.Tensor: shape=(), dtype=int64, numpy=1>, 'Soil_Type_USFS2702': <tf.Tensor: shape=(), dtype=int64, numpy=0>, 'Soil_Type_USFS2703': <tf.Tensor: shape=(), dtype=int64, numpy=0>, 'Soil_Type_USFS2704': <tf.Tensor: shape=(), dtype=int64, numpy=0>, 'Soil_Type_USFS2705': <tf.Tensor: shape=(), dtype=int64, numpy=0>, 'Soil_Type_USFS2706': <tf.Tensor: shape=(), dtype=int64, numpy=0>, 'Soil_Type_USFS2717': <tf.Tensor: shape=(), dtype=int64, numpy=0>, 'Soil_Type_USFS3501': <tf.Tensor: shape=(), dtype=int64, numpy=0>, 'Soil_Type_USFS3502': <tf.Tensor: shape=(), dtype=int64, numpy=0>, 'Soil_Type_USFS4201': <tf.Tensor: shape=(), dtype=int64, numpy=0>, 'Soil_Type_USFS4703': <tf.Tensor: shape=(), dtype=int64, numpy=1>, 'Soil_Type_USFS4704': <tf.Tensor: shape=(), dtype=int64, numpy=0>, 'Soil_Type_USFS4744': <tf.Tensor: shape=(), dtype=int64, numpy=0>, 'Soil_Type_USFS4758': <tf.Tensor: shape=(), dtype=int64, numpy=0>, 'Soil_Type_USFS5101': <tf.Tensor: shape=(), dtype=int64, numpy=0>, 'Soil_Type_USFS5151': <tf.Tensor: shape=(), dtype=int64, numpy=0>, 'Soil_Type_USFS6101': <tf.Tensor: shape=(), dtype=int64, numpy=0>, 'Soil_Type_USFS6102': <tf.Tensor: shape=(), dtype=int64, numpy=0>, 'Soil_Type_USFS6731': <tf.Tensor: shape=(), dtype=int64, numpy=0>, 'Soil_Type_USFS7101': <tf.Tensor: shape=(), dtype=int64, numpy=0>, 'Soil_Type_USFS7102': <tf.Tensor: shape=(), dtype=int64, numpy=0>, 'Soil_Type_USFS7103': <tf.Tensor: shape=(), dtype=int64, numpy=0>, 'Soil_Type_USFS7201': <tf.Tensor: shape=(), dtype=int64, numpy=0>, 'Soil_Type_USFS7202': <tf.Tensor: shape=(), dtype=int64, numpy=0>, 'Soil_Type_USFS7700': <tf.Tensor: shape=(), dtype=int64, numpy=0>, 'Soil_Type_USFS7701': <tf.Tensor: shape=(), dtype=int64, numpy=0>, 'Soil_Type_USFS7702': <tf.Tensor: shape=(), dtype=int64, numpy=0>, 'Soil_Type_USFS7709': <tf.Tensor: shape=(), dtype=int64, numpy=0>, 'Soil_Type_USFS7710': <tf.Tensor: shape=(), dtype=int64, numpy=0>, 'Soil_Type_USFS7745': <tf.Tensor: shape=(), dtype=int64, numpy=0>, 'Soil_Type_USFS7746': <tf.Tensor: shape=(), dtype=int64, numpy=0>, 'Soil_Type_USFS7755': <tf.Tensor: shape=(), dtype=int64, numpy=0>, 'Soil_Type_USFS7756': <tf.Tensor: shape=(), dtype=int64, numpy=0>, 'Soil_Type_USFS7757': <tf.Tensor: shape=(), dtype=int64, numpy=0>, 'Soil_Type_USFS7790': <tf.Tensor: shape=(), dtype=int64, numpy=0>, 'Soil_Type_USFS8703': <tf.Tensor: shape=(), dtype=int64, numpy=0>, 'Soil_Type_USFS8707': <tf.Tensor: shape=(), dtype=int64, numpy=0>, 'Soil_Type_USFS8708': <tf.Tensor: shape=(), dtype=int64, numpy=0>, 'Soil_Type_USFS8771': <tf.Tensor: shape=(), dtype=int64, numpy=0>, 'Soil_Type_USFS8772': <tf.Tensor: shape=(), dtype=int64, numpy=0>, 'Soil_Type_USFS8776': <tf.Tensor: shape=(), dtype=int64, numpy=0>}\n",
      "Target: tf.Tensor(3, shape=(), dtype=int64)\n"
     ]
    }
   ],
   "source": [
    "for x, y in train_ds.take(1):\n",
    "    print(\"Input:\", x)\n",
    "    print(\"Target:\", y)"
   ],
   "metadata": {
    "collapsed": false,
    "pycharm": {
     "name": "#%%\n"
    }
   }
  },
  {
   "cell_type": "code",
   "execution_count": 58,
   "outputs": [],
   "source": [
    "train_ds = train_ds.batch(32)\n",
    "val_ds = val_ds.batch(32)\n",
    "test_ds = val_ds.batch(32)"
   ],
   "metadata": {
    "collapsed": false,
    "pycharm": {
     "name": "#%%\n"
    }
   }
  },
  {
   "cell_type": "code",
   "execution_count": 21,
   "outputs": [],
   "source": [],
   "metadata": {
    "collapsed": false,
    "pycharm": {
     "name": "#%%\n"
    }
   }
  }
 ],
 "metadata": {
  "kernelspec": {
   "display_name": "Python 3",
   "language": "python",
   "name": "python3"
  },
  "language_info": {
   "codemirror_mode": {
    "name": "ipython",
    "version": 2
   },
   "file_extension": ".py",
   "mimetype": "text/x-python",
   "name": "python",
   "nbconvert_exporter": "python",
   "pygments_lexer": "ipython2",
   "version": "2.7.6"
  }
 },
 "nbformat": 4,
 "nbformat_minor": 0
}